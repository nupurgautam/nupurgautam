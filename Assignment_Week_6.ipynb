{
  "nbformat": 4,
  "nbformat_minor": 0,
  "metadata": {
    "colab": {
      "name": "Assignment Week 6.ipynb",
      "provenance": [],
      "collapsed_sections": [],
      "toc_visible": true,
      "mount_file_id": "1XUrWtSgeW8ApHaO48zDr0wAoOKHxQ2v-",
      "authorship_tag": "ABX9TyNAp/mS4J0stjrvZ2nq572z",
      "include_colab_link": true
    },
    "kernelspec": {
      "name": "python3",
      "display_name": "Python 3"
    }
  },
  "cells": [
    {
      "cell_type": "markdown",
      "metadata": {
        "id": "view-in-github",
        "colab_type": "text"
      },
      "source": [
        "<a href=\"https://colab.research.google.com/github/nupurgautam/nupurgautam/blob/master/Assignment_Week_6.ipynb\" target=\"_parent\"><img src=\"https://colab.research.google.com/assets/colab-badge.svg\" alt=\"Open In Colab\"/></a>"
      ]
    },
    {
      "cell_type": "code",
      "metadata": {
        "id": "GlWq8OWLo--m",
        "colab_type": "code",
        "colab": {}
      },
      "source": [
        "!pip install tensorflow-gpu==2.0.0-rc0"
      ],
      "execution_count": 0,
      "outputs": []
    },
    {
      "cell_type": "markdown",
      "metadata": {
        "id": "54WLurLR7I4K",
        "colab_type": "text"
      },
      "source": [
        ""
      ]
    },
    {
      "cell_type": "code",
      "metadata": {
        "id": "BvwnedrO6xbE",
        "colab_type": "code",
        "colab": {}
      },
      "source": [
        ""
      ],
      "execution_count": 0,
      "outputs": []
    },
    {
      "cell_type": "markdown",
      "metadata": {
        "id": "-EzFfO5HhKg7",
        "colab_type": "text"
      },
      "source": [
        "# Analysis on MNIST data set using Tensorflow Keras\n",
        "## Implemenation details\n",
        "For this implemenation Keras' sequential models are used as defined below\n",
        "<table>\n",
        "<tr><td>Model</td><td><b>Model 1 relu</b></td><td><b>Model 2 elu</b></td></tr>\n",
        "<tr><td>Layers</td><td>Layer 1 flatten with 784 dimensions</br>\n",
        "*   Layer 2 is dense with relu and 128</br>\n",
        "*   Layer 3 is dense with relu and 128</br>\n",
        "*   Layer 4 is dense with softmax and 10\n",
        "</td><td>*   Layer 1 is flatten with 784 dimensions</br>\n",
        "*   Layer 2 is dense with elu and 256</br>\n",
        "*   Layer 3 is dense with softmax and 10\n",
        "</td></tr>\n",
        "<tr><td></td><td colspan =2 >*   Optimizer rmsprop: Divide the\tlearning\trate\tfor\ta\tweight by\ta\trunning\taverage\tof</br>\tthe\tmagnitudes\tof\trecent\tgradients\tfor\tthat weight. This speeds up the learning\n",
        "</br>* Loss: sparse_categorical_crossentropy is used as we have integer target</td></tr>\n",
        "<tr><td>Model</td><td>Model: \"sequential_1\"</br>\n",
        "Total params: 118,282</br>\n",
        "Trainable params: 118,282</br>\n",
        "Non-trainable params: 0</td><td>Model: \"sequential_2\" </br>Total params: 203,530</br>\n",
        "Trainable params: 203,530</br>\n",
        "Non-trainable params: 0</td></tr>\n",
        "<tr><td>Recorded time of model execution (ms)</td><td>91.53710076600001</td><td>120.97846459799996</td></tr>\n",
        "<tr><td>Test score</td><td>0.9753988</td><td>0.9714</td></tr>\n",
        "<tr><td>Kaggle score</td><td>0.97328</td><td>0.97328</td></tr>\n",
        "</table>\n",
        "\n",
        "\n",
        "\n",
        "\n",
        "_________________________________________________________________"
      ]
    },
    {
      "cell_type": "markdown",
      "metadata": {
        "id": "aLcVfJPAqe3J",
        "colab_type": "text"
      },
      "source": [
        "## Recorded time of model execution \n",
        "**91.53710076600001** milliseconds\n"
      ]
    },
    {
      "cell_type": "markdown",
      "metadata": {
        "id": "6zKOKjRFhlIN",
        "colab_type": "text"
      },
      "source": [
        "## Kaggle score\n",
        "Name : submission.csv\n",
        "Submitted : just now\n",
        "Wait time : 0 seconds\n",
        "Execution time : 0 seconds\n",
        "Score : ***0.97328***\n",
        "Complete"
      ]
    },
    {
      "cell_type": "markdown",
      "metadata": {
        "id": "2Y1LAV6Pw5yd",
        "colab_type": "text"
      },
      "source": [
        "## Conclusion\n",
        "Given the execution time and the complexity of the implementation"
      ]
    },
    {
      "cell_type": "code",
      "metadata": {
        "id": "SQHDI-IfVf1h",
        "colab_type": "code",
        "colab": {
          "base_uri": "https://localhost:8080/",
          "height": 51
        },
        "outputId": "6d5d4285-a427-4fd3-df9c-66498abb143e"
      },
      "source": [
        "import tensorflow as tf\n",
        "from tensorflow import keras\n",
        "from keras.preprocessing.image import ImageDataGenerator\n",
        "from keras.layers import Dense, Activation, BatchNormalization, Conv2D, MaxPooling2D, Flatten, Dropout\n",
        "from keras.models import Sequential, load_model\n",
        "from keras.utils import to_categorical\n",
        "from keras.callbacks import EarlyStopping, ModelCheckpoint\n",
        "\n",
        "print(tf.__version__)"
      ],
      "execution_count": 1,
      "outputs": [
        {
          "output_type": "stream",
          "text": [
            "Using TensorFlow backend.\n"
          ],
          "name": "stderr"
        },
        {
          "output_type": "stream",
          "text": [
            "2.0.0-rc0\n"
          ],
          "name": "stdout"
        }
      ]
    },
    {
      "cell_type": "code",
      "metadata": {
        "id": "mrDjp1-LqGfU",
        "colab_type": "code",
        "colab": {}
      },
      "source": [
        "import numpy as np\n",
        "import matplotlib.pyplot as plt\n",
        "import pandas as pd\n",
        "import time\n",
        "\n",
        "from sklearn.model_selection import train_test_split\n",
        "\n",
        "import seaborn as sns  # pretty plotting, including heat map\n",
        "\n",
        "import warnings\n",
        "def ignore_warn(*args, **kwargs):\n",
        "    pass\n",
        "warnings.warn = ignore_warn #ignore warning (from sklearn and seaborn)"
      ],
      "execution_count": 0,
      "outputs": []
    },
    {
      "cell_type": "code",
      "metadata": {
        "id": "8VGutafhqNro",
        "colab_type": "code",
        "colab": {}
      },
      "source": [
        "scoring_data = pd.read_csv('/content/sample_data/digit_data/test_digit.csv')\n",
        "train = pd.read_csv('/content/sample_data/digit_data/train_digit.csv')"
      ],
      "execution_count": 0,
      "outputs": []
    },
    {
      "cell_type": "code",
      "metadata": {
        "id": "OAG9zcImqOAe",
        "colab_type": "code",
        "colab": {
          "base_uri": "https://localhost:8080/",
          "height": 295
        },
        "outputId": "e2200b13-1030-460d-c5c2-4213bad6a998"
      },
      "source": [
        "# Count of the all training data lables\n",
        "train_count =sns.countplot(train[\"label\"], palette=\"Greens\").set_title('Train data label count by digit')\n",
        "fig1 = train_count.get_figure()\n",
        "fig1.savefig('train.png', papertype=None, format=None, transparent=True, pad_inches=0.3)"
      ],
      "execution_count": 6,
      "outputs": [
        {
          "output_type": "display_data",
          "data": {
            "image/png": "[encoded data removed]",
            "text/plain": [
              "<Figure size 432x288 with 1 Axes>"
            ]
          },
          "metadata": {
            "tags": []
          }
        }
      ]
    },
    {
      "cell_type": "code",
      "metadata": {
        "id": "OgukhYdnqOEc",
        "colab_type": "code",
        "colab": {
          "base_uri": "https://localhost:8080/",
          "height": 51
        },
        "outputId": "894591f4-74fd-40cc-ca0c-a9043b2a2b43"
      },
      "source": [
        "# data without label \n",
        "train_X = np.array(train.drop(['label'], axis=1))\n",
        "# data labels \n",
        "train_y = np.array(train[\"label\"])\n",
        "print('Shape of train shape:',train.shape)\n",
        "print('Shape of scoring_data shape:',scoring_data.shape)"
      ],
      "execution_count": 7,
      "outputs": [
        {
          "output_type": "stream",
          "text": [
            "Shape of train shape: (42000, 785)\n",
            "Shape of scoring_data shape: (28000, 784)\n"
          ],
          "name": "stdout"
        }
      ]
    },
    {
      "cell_type": "code",
      "metadata": {
        "id": "79B_aBMuT5KW",
        "colab_type": "code",
        "colab": {
          "base_uri": "https://localhost:8080/",
          "height": 34
        },
        "outputId": "6c622bcb-6630-4673-da82-6ecf595a44e0"
      },
      "source": [
        "train_y"
      ],
      "execution_count": 10,
      "outputs": [
        {
          "output_type": "execute_result",
          "data": {
            "text/plain": [
              "array([1, 0, 1, ..., 7, 6, 9])"
            ]
          },
          "metadata": {
            "tags": []
          },
          "execution_count": 10
        }
      ]
    },
    {
      "cell_type": "code",
      "metadata": {
        "id": "c0Ili6JcU4Rr",
        "colab_type": "code",
        "colab": {}
      },
      "source": [
        ""
      ],
      "execution_count": 0,
      "outputs": []
    },
    {
      "cell_type": "code",
      "metadata": {
        "id": "dzH5JYyUqOI2",
        "colab_type": "code",
        "colab": {
          "base_uri": "https://localhost:8080/",
          "height": 85
        },
        "outputId": "3ab59df4-0a1f-498f-fb01-b8a66ca5e5a9"
      },
      "source": [
        "# split training set into train and test set into 70% train and 30% test\n",
        "X_train_70, X_test_30, y_train_70, y_test_30 = train_test_split(train.drop(['label'], axis=1), train[\"label\"], shuffle=True,\n",
        "                                                    train_size=.7, random_state=1)\n",
        "# Check the shape of the trainig data set array\n",
        "print('Shape of X_train_70:', X_train_70.shape)\n",
        "print('Shape of y_train_70:', y_train_70.shape)\n",
        "print('Shape of X_test_30:', X_test_30.shape)\n",
        "print('Shape of y_test_30:', y_test_30.shape)"
      ],
      "execution_count": 11,
      "outputs": [
        {
          "output_type": "stream",
          "text": [
            "Shape of X_train_70: (29399, 784)\n",
            "Shape of y_train_70: (29399,)\n",
            "Shape of X_test_30: (12601, 784)\n",
            "Shape of y_test_30: (12601,)\n"
          ],
          "name": "stdout"
        }
      ]
    },
    {
      "cell_type": "code",
      "metadata": {
        "id": "ZJ-2yQwSbjp1",
        "colab_type": "code",
        "colab": {}
      },
      "source": [
        "X_train_70,X_test_30 = X_train_70/255.0,X_test_30/255.0"
      ],
      "execution_count": 0,
      "outputs": []
    },
    {
      "cell_type": "code",
      "metadata": {
        "id": "dUqbTRmiTV4f",
        "colab_type": "code",
        "colab": {}
      },
      "source": [
        "model = tf.keras.Sequential([tf.keras.layers.Flatten(input_shape=(784,)),\n",
        "                            tf.keras.layers.Dense(128,activation='relu'),\n",
        "                            tf.keras.layers.Dense(128,activation='relu'), \n",
        "                            tf.keras.layers.Dense(10,activation='softmax')])\n",
        "model.compile(optimizer='rmsprop',loss='sparse_categorical_crossentropy',metrics=['accuracy'])"
      ],
      "execution_count": 0,
      "outputs": []
    },
    {
      "cell_type": "code",
      "metadata": {
        "id": "bQnPamAwaUw7",
        "colab_type": "code",
        "colab": {
          "base_uri": "https://localhost:8080/",
          "height": 581
        },
        "outputId": "6f8334f3-6a10-49d7-ffbd-7ecf97a3cb33"
      },
      "source": [
        "model_start = time.process_time() \n",
        "model.fit(X_train_70,y_train_70,epochs=15)\n",
        "model_stop = time.process_time() \n"
      ],
      "execution_count": 20,
      "outputs": [
        {
          "output_type": "stream",
          "text": [
            "WARNING:tensorflow:Falling back from v2 loop because of error: Failed to find data adapter that can handle input: <class 'pandas.core.frame.DataFrame'>, <class 'NoneType'>\n",
            "Train on 29399 samples\n",
            "Epoch 1/15\n",
            "29399/29399 [==============================] - 5s 160us/sample - loss: 0.1944 - accuracy: 0.9424\n",
            "Epoch 2/15\n",
            "29399/29399 [==============================] - 5s 167us/sample - loss: 0.1081 - accuracy: 0.9684\n",
            "Epoch 3/15\n",
            "29399/29399 [==============================] - 5s 164us/sample - loss: 0.0792 - accuracy: 0.9765\n",
            "Epoch 4/15\n",
            "29399/29399 [==============================] - 5s 172us/sample - loss: 0.0615 - accuracy: 0.9808\n",
            "Epoch 5/15\n",
            "29399/29399 [==============================] - 5s 171us/sample - loss: 0.0491 - accuracy: 0.9859\n",
            "Epoch 6/15\n",
            "29399/29399 [==============================] - 5s 167us/sample - loss: 0.0386 - accuracy: 0.9877\n",
            "Epoch 7/15\n",
            "29399/29399 [==============================] - 5s 168us/sample - loss: 0.0327 - accuracy: 0.9899\n",
            "Epoch 8/15\n",
            "29399/29399 [==============================] - 5s 165us/sample - loss: 0.0246 - accuracy: 0.9928\n",
            "Epoch 9/15\n",
            "29399/29399 [==============================] - 5s 157us/sample - loss: 0.0208 - accuracy: 0.9929\n",
            "Epoch 10/15\n",
            "29399/29399 [==============================] - 5s 167us/sample - loss: 0.0174 - accuracy: 0.9946\n",
            "Epoch 11/15\n",
            "29399/29399 [==============================] - 5s 167us/sample - loss: 0.0140 - accuracy: 0.9957\n",
            "Epoch 12/15\n",
            "29399/29399 [==============================] - 5s 165us/sample - loss: 0.0119 - accuracy: 0.9967\n",
            "Epoch 13/15\n",
            "29399/29399 [==============================] - 5s 159us/sample - loss: 0.0104 - accuracy: 0.9967\n",
            "Epoch 14/15\n",
            "29399/29399 [==============================] - 5s 165us/sample - loss: 0.0092 - accuracy: 0.9971\n",
            "Epoch 15/15\n",
            "29399/29399 [==============================] - 5s 169us/sample - loss: 0.0078 - accuracy: 0.9977\n"
          ],
          "name": "stdout"
        }
      ]
    },
    {
      "cell_type": "code",
      "metadata": {
        "id": "SGjjnroqcQYc",
        "colab_type": "code",
        "colab": {
          "base_uri": "https://localhost:8080/",
          "height": 88
        },
        "outputId": "3afc88ab-3a10-4ce1-a64d-4ccc5c7de575"
      },
      "source": [
        "model.evaluate(X_test_30,y_test_30)"
      ],
      "execution_count": 46,
      "outputs": [
        {
          "output_type": "stream",
          "text": [
            "WARNING:tensorflow:Falling back from v2 loop because of error: Failed to find data adapter that can handle input: <class 'pandas.core.frame.DataFrame'>, <class 'NoneType'>\n",
            "12601/12601 [==============================] - 1s 57us/sample - loss: 0.1744 - accuracy: 0.9754\n"
          ],
          "name": "stdout"
        },
        {
          "output_type": "execute_result",
          "data": {
            "text/plain": [
              "[0.17435994431039195, 0.9753988]"
            ]
          },
          "metadata": {
            "tags": []
          },
          "execution_count": 46
        }
      ]
    },
    {
      "cell_type": "code",
      "metadata": {
        "id": "bZ4xnV1Vct_J",
        "colab_type": "code",
        "colab": {
          "base_uri": "https://localhost:8080/",
          "height": 306
        },
        "outputId": "1fb973eb-42da-4362-aa95-4ccd4b5ed2ad"
      },
      "source": [
        "print (model.summary())"
      ],
      "execution_count": 22,
      "outputs": [
        {
          "output_type": "stream",
          "text": [
            "Model: \"sequential_1\"\n",
            "_________________________________________________________________\n",
            "Layer (type)                 Output Shape              Param #   \n",
            "=================================================================\n",
            "flatten_1 (Flatten)          (None, 784)               0         \n",
            "_________________________________________________________________\n",
            "dense_3 (Dense)              (None, 128)               100480    \n",
            "_________________________________________________________________\n",
            "dense_4 (Dense)              (None, 128)               16512     \n",
            "_________________________________________________________________\n",
            "dense_5 (Dense)              (None, 10)                1290      \n",
            "=================================================================\n",
            "Total params: 118,282\n",
            "Trainable params: 118,282\n",
            "Non-trainable params: 0\n",
            "_________________________________________________________________\n",
            "None\n"
          ],
          "name": "stdout"
        }
      ]
    },
    {
      "cell_type": "code",
      "metadata": {
        "id": "LU_8kPy5c0VB",
        "colab_type": "code",
        "colab": {}
      },
      "source": [
        "y_scoring_data = np.argmax(model.predict(np.array(scoring_data)) , axis = 1 )"
      ],
      "execution_count": 0,
      "outputs": []
    },
    {
      "cell_type": "code",
      "metadata": {
        "id": "1xVJ3WvndV99",
        "colab_type": "code",
        "colab": {
          "base_uri": "https://localhost:8080/",
          "height": 221
        },
        "outputId": "17323af4-a924-483c-ff4b-22559dbde8a9"
      },
      "source": [
        "print(\"Recorded time for the execution to fit in milliseconds\", model_stop- model_start) \n",
        "# Creating result data\n",
        "result = pd.DataFrame()\n",
        "result['Label'] = y_scoring_data\n",
        "result['ImageId'] = result.index.values + 1\n",
        "result = result[['ImageId','Label']]\n",
        "result.head()"
      ],
      "execution_count": 31,
      "outputs": [
        {
          "output_type": "stream",
          "text": [
            "Recorded time for the execution to fit in milliseconds 91.53710076600001\n"
          ],
          "name": "stdout"
        },
        {
          "output_type": "execute_result",
          "data": {
            "text/html": [
              "<div>\n",
              "<style scoped>\n",
              "    .dataframe tbody tr th:only-of-type {\n",
              "        vertical-align: middle;\n",
              "    }\n",
              "\n",
              "    .dataframe tbody tr th {\n",
              "        vertical-align: top;\n",
              "    }\n",
              "\n",
              "    .dataframe thead th {\n",
              "        text-align: right;\n",
              "    }\n",
              "</style>\n",
              "<table border=\"1\" class=\"dataframe\">\n",
              "  <thead>\n",
              "    <tr style=\"text-align: right;\">\n",
              "      <th></th>\n",
              "      <th>ImageId</th>\n",
              "      <th>Label</th>\n",
              "    </tr>\n",
              "  </thead>\n",
              "  <tbody>\n",
              "    <tr>\n",
              "      <th>0</th>\n",
              "      <td>1</td>\n",
              "      <td>2</td>\n",
              "    </tr>\n",
              "    <tr>\n",
              "      <th>1</th>\n",
              "      <td>2</td>\n",
              "      <td>0</td>\n",
              "    </tr>\n",
              "    <tr>\n",
              "      <th>2</th>\n",
              "      <td>3</td>\n",
              "      <td>9</td>\n",
              "    </tr>\n",
              "    <tr>\n",
              "      <th>3</th>\n",
              "      <td>4</td>\n",
              "      <td>9</td>\n",
              "    </tr>\n",
              "    <tr>\n",
              "      <th>4</th>\n",
              "      <td>5</td>\n",
              "      <td>3</td>\n",
              "    </tr>\n",
              "  </tbody>\n",
              "</table>\n",
              "</div>"
            ],
            "text/plain": [
              "   ImageId  Label\n",
              "0        1      2\n",
              "1        2      0\n",
              "2        3      9\n",
              "3        4      9\n",
              "4        5      3"
            ]
          },
          "metadata": {
            "tags": []
          },
          "execution_count": 31
        }
      ]
    },
    {
      "cell_type": "code",
      "metadata": {
        "id": "6a2fh22XewUJ",
        "colab_type": "code",
        "colab": {}
      },
      "source": [
        "result.to_csv('submission.csv',index=False)\n"
      ],
      "execution_count": 0,
      "outputs": []
    },
    {
      "cell_type": "code",
      "metadata": {
        "id": "l_Y-dZcEe_rn",
        "colab_type": "code",
        "colab": {
          "base_uri": "https://localhost:8080/",
          "height": 122
        },
        "outputId": "31efbebe-a9e9-47df-a4d6-28beb2a68d96"
      },
      "source": [
        "from google.colab import drive\n",
        "drive.mount('/content/drive')"
      ],
      "execution_count": 30,
      "outputs": [
        {
          "output_type": "stream",
          "text": [
            "Go to this URL in a browser: https://accounts.google.com/o/oauth2/auth?client_id=947318989803-6bn6qk8qdgf4n4g3pfee6491hc0brc4i.apps.googleusercontent.com&redirect_uri=urn%3aietf%3awg%3aoauth%3a2.0%3aoob&response_type=code&scope=email%20https%3a%2f%2fwww.googleapis.com%2fauth%2fdocs.test%20https%3a%2f%2fwww.googleapis.com%2fauth%2fdrive%20https%3a%2f%2fwww.googleapis.com%2fauth%2fdrive.photos.readonly%20https%3a%2f%2fwww.googleapis.com%2fauth%2fpeopleapi.readonly\n",
            "\n",
            "Enter your authorization code:\n",
            "··········\n",
            "Mounted at /content/drive\n"
          ],
          "name": "stdout"
        }
      ]
    },
    {
      "cell_type": "code",
      "metadata": {
        "id": "kkeE2jOAx1dO",
        "colab_type": "code",
        "colab": {}
      },
      "source": [
        "model_elu_256 = tf.keras.Sequential([tf.keras.layers.Flatten(input_shape=(784,)),\n",
        "                            tf.keras.layers.Dense(256,activation='elu'),\n",
        "                            tf.keras.layers.Dense(10,activation='softmax')])\n",
        "model_elu_256.compile(optimizer='rmsprop',loss='sparse_categorical_crossentropy',metrics=['accuracy'])"
      ],
      "execution_count": 0,
      "outputs": []
    },
    {
      "cell_type": "code",
      "metadata": {
        "id": "y6M2mhoIyp-Z",
        "colab_type": "code",
        "colab": {
          "base_uri": "https://localhost:8080/",
          "height": 870
        },
        "outputId": "aec0b8be-c70b-40ca-e5fd-c4866ee0d576"
      },
      "source": [
        "model_elu_256_start = time.process_time() \n",
        "model_elu_256.fit(X_train_70,y_train_70,epochs=15)\n",
        "model_elu_256_stop = time.process_time() \n",
        "model_elu_256.evaluate(X_test_30,y_test_30)\n",
        "print (model_elu_256.summary())"
      ],
      "execution_count": 48,
      "outputs": [
        {
          "output_type": "stream",
          "text": [
            "WARNING:tensorflow:Falling back from v2 loop because of error: Failed to find data adapter that can handle input: <class 'pandas.core.frame.DataFrame'>, <class 'NoneType'>\n",
            "Train on 29399 samples\n",
            "Epoch 1/15\n",
            "29399/29399 [==============================] - 6s 197us/sample - loss: 0.3553 - accuracy: 0.8959\n",
            "Epoch 2/15\n",
            "29399/29399 [==============================] - 6s 190us/sample - loss: 0.1955 - accuracy: 0.9420\n",
            "Epoch 3/15\n",
            "29399/29399 [==============================] - 6s 190us/sample - loss: 0.1348 - accuracy: 0.9606\n",
            "Epoch 4/15\n",
            "29399/29399 [==============================] - 6s 190us/sample - loss: 0.1031 - accuracy: 0.9689\n",
            "Epoch 5/15\n",
            "29399/29399 [==============================] - 5s 187us/sample - loss: 0.0831 - accuracy: 0.9755\n",
            "Epoch 6/15\n",
            "29399/29399 [==============================] - 5s 180us/sample - loss: 0.0683 - accuracy: 0.9792\n",
            "Epoch 7/15\n",
            "29399/29399 [==============================] - 6s 204us/sample - loss: 0.0575 - accuracy: 0.9820\n",
            "Epoch 8/15\n",
            "29399/29399 [==============================] - 5s 184us/sample - loss: 0.0495 - accuracy: 0.9853\n",
            "Epoch 9/15\n",
            "29399/29399 [==============================] - 5s 187us/sample - loss: 0.0419 - accuracy: 0.9878\n",
            "Epoch 10/15\n",
            "29399/29399 [==============================] - 5s 183us/sample - loss: 0.0344 - accuracy: 0.9898\n",
            "Epoch 11/15\n",
            "29399/29399 [==============================] - 6s 192us/sample - loss: 0.0309 - accuracy: 0.9909\n",
            "Epoch 12/15\n",
            "29399/29399 [==============================] - 6s 192us/sample - loss: 0.0265 - accuracy: 0.9920\n",
            "Epoch 13/15\n",
            "29399/29399 [==============================] - 6s 188us/sample - loss: 0.0217 - accuracy: 0.9931\n",
            "Epoch 14/15\n",
            "29399/29399 [==============================] - 6s 195us/sample - loss: 0.0187 - accuracy: 0.9946\n",
            "Epoch 15/15\n",
            "29399/29399 [==============================] - 5s 187us/sample - loss: 0.0170 - accuracy: 0.9952\n",
            "WARNING:tensorflow:Falling back from v2 loop because of error: Failed to find data adapter that can handle input: <class 'pandas.core.frame.DataFrame'>, <class 'NoneType'>\n",
            "12601/12601 [==============================] - 1s 64us/sample - loss: 0.1240 - accuracy: 0.9714\n",
            "Model: \"sequential_7\"\n",
            "_________________________________________________________________\n",
            "Layer (type)                 Output Shape              Param #   \n",
            "=================================================================\n",
            "flatten_10 (Flatten)         (None, 784)               0         \n",
            "_________________________________________________________________\n",
            "dense_20 (Dense)             (None, 256)               200960    \n",
            "_________________________________________________________________\n",
            "dense_21 (Dense)             (None, 10)                2570      \n",
            "=================================================================\n",
            "Total params: 203,530\n",
            "Trainable params: 203,530\n",
            "Non-trainable params: 0\n",
            "_________________________________________________________________\n",
            "None\n"
          ],
          "name": "stdout"
        }
      ]
    },
    {
      "cell_type": "code",
      "metadata": {
        "id": "RBlP8Z_NzXFv",
        "colab_type": "code",
        "colab": {
          "base_uri": "https://localhost:8080/",
          "height": 34
        },
        "outputId": "f4ff005a-e2c7-44e0-ad80-bd6ca1dc8d01"
      },
      "source": [
        "y_scoring_data_2 = np.argmax(model_elu_256.predict(np.array(scoring_data)) , axis = 1 )\n",
        "print(\"Recorded time for the execution to fit in milliseconds\", model_relu_256_stop - model_relu_256_start) \n",
        "# Creating result data\n",
        "result2 = pd.DataFrame()\n",
        "result2['Label'] = y_scoring_data_2\n",
        "result2['ImageId'] = result2.index.values + 1\n",
        "result2 = result2[['ImageId','Label']]\n",
        "result2.head()\n",
        "result.to_csv('submission_2.csv',index=False)"
      ],
      "execution_count": 49,
      "outputs": [
        {
          "output_type": "stream",
          "text": [
            "Recorded time for the execution to fit in milliseconds 120.97846459799996\n"
          ],
          "name": "stdout"
        }
      ]
    }
  ]
}