{
 "cells": [
  {
   "cell_type": "code",
   "execution_count": 1,
   "metadata": {},
   "outputs": [],
   "source": [
    "\"\"\"\n",
    "Created on Sun Jan 12 10:32:11 2020\n",
    "\n",
    "@author: nupur\n",
    "Data scaling and comparisons (10 points)\n",
    "Insights from analysis (10 points)\n",
    "\"\"\""
   ]
  },
  {
   "cell_type": "code",
   "execution_count": 2,
   "metadata": {
    "lines_to_next_cell": 2
   },
   "outputs": [],
   "source": [
    "import pandas as pd\n",
    "import seaborn as sns \n",
    "import numpy as np\n",
    "import seaborn as sns "
   ]
  },
  {
   "cell_type": "code",
   "execution_count": 3,
   "metadata": {},
   "outputs": [],
   "source": [
    "#Data preparation (10 points)\n",
    "dataSet = pd.read_csv('mspa-survey-data.csv')"
   ]
  },
  {
   "cell_type": "code",
   "execution_count": 4,
   "metadata": {},
   "outputs": [
    {
     "name": "stdout",
     "output_type": "stream",
     "text": [
      "\n",
      "Contents of initial survey data ---------------\n",
      "   RespondentID  Personal_JavaScalaSpark  Personal_JavaScriptHTMLCSS  \\\n",
      "0    5135740122                        0                           0   \n",
      "1    5133300037                       10                          10   \n",
      "2    5132253300                       20                           0   \n",
      "3    5132096630                       10                          10   \n",
      "4    5131990362                       20                           0   \n",
      "\n",
      "   Personal_Python  Personal_R  Personal_SAS  Professional_JavaScalaSpark  \\\n",
      "0                0          50            50                            0   \n",
      "1               50          30             0                           25   \n",
      "2               40          40             0                            0   \n",
      "3               25          35            20                           10   \n",
      "4                0          70            10                           20   \n",
      "\n",
      "   Professional_JavaScriptHTMLCSS  Professional_Python  Professional_R  ...  \\\n",
      "0                               0                    0              25  ...   \n",
      "1                              25                   30              20  ...   \n",
      "2                               0                   40              40  ...   \n",
      "3                              10                   25              35  ...   \n",
      "4                               0                    0              80  ...   \n",
      "\n",
      "   PREDICT453  PREDICT454  PREDICT455  PREDICT456  PREDICT457  OtherPython  \\\n",
      "0         NaN         NaN         NaN         NaN         NaN          NaN   \n",
      "1         NaN         NaN         NaN         NaN         NaN          NaN   \n",
      "2         NaN         NaN         NaN         NaN         NaN          NaN   \n",
      "3         NaN         NaN         NaN         NaN         NaN          NaN   \n",
      "4         NaN         NaN         NaN         NaN         NaN          NaN   \n",
      "\n",
      "   OtherR  OtherSAS             Other  Graduate_Date  \n",
      "0     NaN       NaN               NaN            NaN  \n",
      "1     NaN       NaN               NaN    Spring 2018  \n",
      "2     NaN       NaN               NaN      Fall 2018  \n",
      "3     NaN       NaN               NaN      Fall 2017  \n",
      "4     NaN       NaN  CS-435 with Weka      Fall 2018  \n",
      "\n",
      "[5 rows x 41 columns]\n",
      "<class 'pandas.core.frame.DataFrame'>\n",
      "RangeIndex: 207 entries, 0 to 206\n",
      "Data columns (total 41 columns):\n",
      "RespondentID                        207 non-null int64\n",
      "Personal_JavaScalaSpark             207 non-null int64\n",
      "Personal_JavaScriptHTMLCSS          207 non-null int64\n",
      "Personal_Python                     207 non-null int64\n",
      "Personal_R                          207 non-null int64\n",
      "Personal_SAS                        207 non-null int64\n",
      "Professional_JavaScalaSpark         207 non-null int64\n",
      "Professional_JavaScriptHTMLCSS      207 non-null int64\n",
      "Professional_Python                 207 non-null int64\n",
      "Professional_R                      207 non-null int64\n",
      "Professional_SAS                    207 non-null int64\n",
      "Industry_JavaScalaSpark             207 non-null int64\n",
      "Industry_JavaScriptHTMLCSS          207 non-null int64\n",
      "Industry_Python                     207 non-null int64\n",
      "Industry_R                          207 non-null int64\n",
      "Industry_SAS                        207 non-null int64\n",
      "Python_Course_Interest              206 non-null float64\n",
      "Foundations_DE_Course_Interest      200 non-null float64\n",
      "Analytics_App_Course_Interest       203 non-null float64\n",
      "Systems_Analysis_Course_Interest    200 non-null float64\n",
      "Courses_Completed                   187 non-null float64\n",
      "PREDICT400                          163 non-null object\n",
      "PREDICT401                          171 non-null object\n",
      "PREDICT410                          145 non-null object\n",
      "PREDICT411                          113 non-null object\n",
      "PREDICT413                          59 non-null object\n",
      "PREDICT420                          127 non-null object\n",
      "PREDICT422                          48 non-null object\n",
      "PREDICT450                          17 non-null object\n",
      "PREDICT451                          7 non-null object\n",
      "PREDICT452                          13 non-null object\n",
      "PREDICT453                          11 non-null object\n",
      "PREDICT454                          5 non-null object\n",
      "PREDICT455                          30 non-null object\n",
      "PREDICT456                          6 non-null object\n",
      "PREDICT457                          4 non-null object\n",
      "OtherPython                         5 non-null object\n",
      "OtherR                              14 non-null object\n",
      "OtherSAS                            2 non-null object\n",
      "Other                               26 non-null object\n",
      "Graduate_Date                       204 non-null object\n",
      "dtypes: float64(5), int64(16), object(20)\n",
      "memory usage: 66.4+ KB\n",
      "None\n",
      "       RespondentID  Personal_JavaScalaSpark  Personal_JavaScriptHTMLCSS  \\\n",
      "count  2.070000e+02               207.000000                  207.000000   \n",
      "mean   5.119017e+09                10.135266                    4.797101   \n",
      "std    6.677436e+06                11.383477                    6.757764   \n",
      "min    5.109807e+09                 0.000000                    0.000000   \n",
      "25%    5.112944e+09                 0.000000                    0.000000   \n",
      "50%    5.116997e+09                 9.000000                    0.000000   \n",
      "75%    5.124485e+09                20.000000                   10.000000   \n",
      "max    5.135740e+09                70.000000                   30.000000   \n",
      "\n",
      "       Personal_Python  Personal_R  Personal_SAS  Professional_JavaScalaSpark  \\\n",
      "count       207.000000  207.000000    207.000000                   207.000000   \n",
      "mean         31.304348   37.125604     16.637681                     9.251208   \n",
      "std          15.570982   14.576003     13.626400                    13.167505   \n",
      "min           0.000000    0.000000      0.000000                     0.000000   \n",
      "25%          20.000000   30.000000      5.000000                     0.000000   \n",
      "50%          30.000000   35.000000     15.000000                     5.000000   \n",
      "75%          40.000000   50.000000     25.000000                    15.000000   \n",
      "max          90.000000  100.000000     75.000000                    80.000000   \n",
      "\n",
      "       Professional_JavaScriptHTMLCSS  Professional_Python  Professional_R  \\\n",
      "count                      207.000000           207.000000      207.000000   \n",
      "mean                         5.840580            30.028986       36.415459   \n",
      "std                         10.812555            19.144802       20.847606   \n",
      "min                          0.000000             0.000000        0.000000   \n",
      "25%                          0.000000            20.000000       25.000000   \n",
      "50%                          0.000000            30.000000       33.000000   \n",
      "75%                         10.000000            40.000000       50.000000   \n",
      "max                        100.000000           100.000000      100.000000   \n",
      "\n",
      "       ...  Industry_JavaScalaSpark  Industry_JavaScriptHTMLCSS  \\\n",
      "count  ...               207.000000                  207.000000   \n",
      "mean   ...                11.942029                    6.966184   \n",
      "std    ...                14.706399                   10.030721   \n",
      "min    ...                 0.000000                    0.000000   \n",
      "25%    ...                 0.000000                    0.000000   \n",
      "50%    ...                 5.000000                    0.000000   \n",
      "75%    ...                20.000000                   10.000000   \n",
      "max    ...                70.000000                   50.000000   \n",
      "\n",
      "       Industry_Python  Industry_R  Industry_SAS  Python_Course_Interest  \\\n",
      "count       207.000000  207.000000    207.000000              206.000000   \n",
      "mean         29.772947   32.434783     18.884058               73.529126   \n",
      "std          17.959816   15.912209     19.137623               29.835429   \n",
      "min           0.000000    0.000000      0.000000                0.000000   \n",
      "25%          20.000000   22.500000      0.000000               53.000000   \n",
      "50%          30.000000   30.000000     15.000000               82.500000   \n",
      "75%          40.000000   40.000000     30.000000              100.000000   \n",
      "max          95.000000   85.000000    100.000000              100.000000   \n",
      "\n",
      "       Foundations_DE_Course_Interest  Analytics_App_Course_Interest  \\\n",
      "count                      200.000000                     203.000000   \n",
      "mean                        58.045000                      55.201970   \n",
      "std                         32.588079                      34.147954   \n",
      "min                          0.000000                       0.000000   \n",
      "25%                         29.500000                      25.000000   \n",
      "50%                         60.000000                      60.000000   \n",
      "75%                         89.250000                      85.000000   \n",
      "max                        100.000000                     100.000000   \n",
      "\n",
      "       Systems_Analysis_Course_Interest  Courses_Completed  \n",
      "count                        200.000000         187.000000  \n",
      "mean                          53.630000           6.342246  \n",
      "std                           33.539493           3.170849  \n",
      "min                            0.000000           1.000000  \n",
      "25%                           21.500000           4.000000  \n",
      "50%                           51.500000           6.000000  \n",
      "75%                           80.250000           9.000000  \n",
      "max                          100.000000          12.000000  \n",
      "\n",
      "[8 rows x 21 columns]\n",
      "RespondentID                          0\n",
      "Personal_JavaScalaSpark               0\n",
      "Personal_JavaScriptHTMLCSS            0\n",
      "Personal_Python                       0\n",
      "Personal_R                            0\n",
      "Personal_SAS                          0\n",
      "Professional_JavaScalaSpark           0\n",
      "Professional_JavaScriptHTMLCSS        0\n",
      "Professional_Python                   0\n",
      "Professional_R                        0\n",
      "Professional_SAS                      0\n",
      "Industry_JavaScalaSpark               0\n",
      "Industry_JavaScriptHTMLCSS            0\n",
      "Industry_Python                       0\n",
      "Industry_R                            0\n",
      "Industry_SAS                          0\n",
      "Python_Course_Interest                1\n",
      "Foundations_DE_Course_Interest        7\n",
      "Analytics_App_Course_Interest         4\n",
      "Systems_Analysis_Course_Interest      7\n",
      "Courses_Completed                    20\n",
      "PREDICT400                           44\n",
      "PREDICT401                           36\n",
      "PREDICT410                           62\n",
      "PREDICT411                           94\n",
      "PREDICT413                          148\n",
      "PREDICT420                           80\n",
      "PREDICT422                          159\n",
      "PREDICT450                          190\n",
      "PREDICT451                          200\n",
      "PREDICT452                          194\n",
      "PREDICT453                          196\n",
      "PREDICT454                          202\n",
      "PREDICT455                          177\n",
      "PREDICT456                          201\n",
      "PREDICT457                          203\n",
      "OtherPython                         202\n",
      "OtherR                              193\n",
      "OtherSAS                            205\n",
      "Other                               181\n",
      "Graduate_Date                         3\n",
      "dtype: int64\n",
      "\n",
      "Number of Respondents = 207\n"
     ]
    }
   ],
   "source": [
    "#Data exploration (10 points)\n",
    "print('\\nContents of initial survey data ---------------')\n",
    "print(dataSet.head())\n",
    "print(dataSet.info())\n",
    "print(dataSet.describe())\n",
    "print(dataSet.isnull().sum())\n",
    "print('\\nNumber of Respondents =', len(dataSet)) \n",
    "dataSet = dataSet.rename(index=str, columns={\n",
    "    'Personal_JavaScalaSpark': 'Pers_Spark',\n",
    "    'Personal_JavaScriptHTMLCSS': 'Pers_JS',\n",
    "    'Personal_Python': 'Pers_Python',\n",
    "    'Personal_R': 'Pers_R',\n",
    "    'Personal_SAS': 'Pers_SAS',\n",
    "    'Professional_JavaScalaSpark': 'Prof_Spark',\n",
    "    'Professional_JavaScriptHTMLCSS': 'Prof_JS',\n",
    "    'Professional_Python': 'Prof_Python',\n",
    "    'Professional_R': 'Prof_R',\n",
    "    'Professional_SAS': 'Prof_SAS',\n",
    "    'Industry_JavaScalaSpark': 'Ind_Spark',\n",
    "    'Industry_JavaScriptHTMLCSS': 'Ind_JS',\n",
    "    'Industry_Python': 'Ind_Python',\n",
    "    'Industry_R': 'Ind_R',\n",
    "    'Industry_SAS': 'Ind_SAS'})"
   ]
  },
  {
   "cell_type": "code",
   "execution_count": 5,
   "metadata": {
    "lines_to_next_cell": 2
   },
   "outputs": [],
   "source": [
    "dataSet = dataSet.rename(index=str, columns={\n",
    "    'PREDICT400': '400 - Py',\n",
    "    'PREDICT401': '401 - R',\n",
    "    'PREDICT410': '410 - SAS',\n",
    "    'PREDICT411': '411 - SAS',\n",
    "    'PREDICT413': '413 - R',\n",
    "    'PREDICT420': '420 - Py',\n",
    "    'PREDICT422': '422 - R',\n",
    "    'PREDICT450': '450 - R',\n",
    "    'PREDICT451': '451 - R',\n",
    "    'PREDICT452': '452 - Py',\n",
    "    'PREDICT453': '453 - Py',\n",
    "    'PREDICT454': '454 - R',\n",
    "    'PREDICT455': '455 - R',\n",
    "    'PREDICT456': '456 - R',\n",
    "    'PREDICT457': '457 - R',\n",
    "    'OtherPython': 'OtherPy'})\n",
    "#Data visualization (10 points)\n",
    "np.random.seed(0)\n",
    "attribute_Spark = ['Pers_Spark','Prof_Spark','Ind_Spark']\n",
    "attribute_JS = ['Pers_JS','Prof_JS','Ind_JS']\n",
    "attribute_Python =['Pers_Python','Prof_Python','Ind_Python']\n",
    "attribute_R =['Pers_R','Prof_R','Ind_R']\n",
    "attribute_SAS =['Pers_SAS','Prof_SAS','Ind_SAS']\n",
    "attributes_per = [\"Pers_Spark\",\"Pers_JS\",\"Pers_Python\",\"Pers_R\",\"Pers_SAS\"]\n",
    "attributes_pro = [\"Prof_Spark\",\"Prof_JS\",\"Prof_Python\",\"Prof_R\",\"Prof_SAS\"]\n",
    "attributes_Ind= [\"Ind_Spark\",\"Ind_JS\",\"Ind_Python\",\"Ind_R\",\"Ind_SAS\"]\n",
    "attribute_all = attribute_Spark + attribute_JS + attribute_Python + attribute_R + attribute_SAS\n",
    "total_Spark = pd.DataFrame(dataSet[attribute_Spark].sum())\n",
    "total_JS = pd.DataFrame(dataSet[attribute_JS].sum())\n",
    "total_Python = pd.DataFrame(dataSet[attribute_Python].sum())\n",
    "total_R = pd.DataFrame(dataSet[attribute_R].sum())\n",
    "total_SAS = pd.DataFrame(dataSet[attribute_SAS].sum())\n",
    "total_per = pd.DataFrame(dataSet[attributes_per].sum())\n",
    "total_pro = pd.DataFrame(dataSet[attributes_pro].sum())\n",
    "total_Ind = pd.DataFrame(dataSet[attributes_Ind].sum())\n",
    "total = pd.DataFrame(dataSet[attribute_all].sum())"
   ]
  },
  {
   "cell_type": "code",
   "execution_count": 6,
   "metadata": {
    "lines_to_next_cell": 2
   },
   "outputs": [
    {
     "data": {
      "text/plain": [
       "<matplotlib.axes._subplots.AxesSubplot at 0x1db66d2add8>"
      ]
     },
     "execution_count": 6,
     "metadata": {},
     "output_type": "execute_result"
    },
    {
     "data": {
      "image/png": "[encoded data removed]",
      "text/plain": [
       "<Figure size 432x288 with 1 Axes>"
      ]
     },
     "metadata": {
      "needs_background": "light"
     },
     "output_type": "display_data"
    },
    {
     "data": {
      "image/png": "[encoded data removed]",
      "text/plain": [
       "<Figure size 432x288 with 1 Axes>"
      ]
     },
     "metadata": {
      "needs_background": "light"
     },
     "output_type": "display_data"
    },
    {
     "data": {
      "image/png": "[encoded data removed]",
      "text/plain": [
       "<Figure size 432x288 with 1 Axes>"
      ]
     },
     "metadata": {
      "needs_background": "light"
     },
     "output_type": "display_data"
    },
    {
     "data": {
      "image/png": "[encoded data removed]",
      "text/plain": [
       "<Figure size 432x288 with 1 Axes>"
      ]
     },
     "metadata": {
      "needs_background": "light"
     },
     "output_type": "display_data"
    }
   ],
   "source": [
    "total_per.plot(kind='bar')\n",
    "total_pro.plot(kind='bar')\n",
    "total_Ind.plot(kind='bar')\n",
    "total.plot(kind='bar')"
   ]
  },
  {
   "cell_type": "code",
   "execution_count": 7,
   "metadata": {
    "lines_to_next_cell": 2
   },
   "outputs": [
    {
     "data": {
      "text/plain": [
       "<matplotlib.axes._subplots.AxesSubplot at 0x1db66ded828>"
      ]
     },
     "execution_count": 7,
     "metadata": {},
     "output_type": "execute_result"
    },
    {
     "data": {
      "image/png": "[encoded data removed]",
      "text/plain": [
       "<Figure size 432x288 with 1 Axes>"
      ]
     },
     "metadata": {
      "needs_background": "light"
     },
     "output_type": "display_data"
    }
   ],
   "source": [
    "# analysis of interest in future courses\n",
    "attribute_futureCourses = ['Python_Course_Interest','Foundations_DE_Course_Interest','Analytics_App_Course_Interest','Systems_Analysis_Course_Interest']\n",
    "dataSet_future_course = pd.DataFrame(dataSet[attribute_futureCourses].sum())\n",
    "dataSet_future_course.plot(kind='bar')"
   ]
  },
  {
   "cell_type": "code",
   "execution_count": 8,
   "metadata": {},
   "outputs": [
    {
     "name": "stdout",
     "output_type": "stream",
     "text": [
      "\n",
      "Descriptive statistics for courses to be completed by 2016 ---------------\n",
      "count    187.000000\n",
      "mean       6.342246\n",
      "std        3.170849\n",
      "min        1.000000\n",
      "25%        4.000000\n",
      "50%        6.000000\n",
      "75%        9.000000\n",
      "max       12.000000\n",
      "Name: Courses_Completed, dtype: float64\n"
     ]
    },
    {
     "data": {
      "text/plain": [
       "Text(0.5, 1.0, 'Course complete box plot')"
      ]
     },
     "execution_count": 8,
     "metadata": {},
     "output_type": "execute_result"
    },
    {
     "data": {
      "image/png": "[encoded data removed]",
      "text/plain": [
       "<Figure size 432x288 with 1 Axes>"
      ]
     },
     "metadata": {
      "needs_background": "light"
     },
     "output_type": "display_data"
    }
   ],
   "source": [
    "# course completion by 2016\n",
    "print('\\nDescriptive statistics for courses to be completed by 2016 ---------------')\n",
    "ds_course_complete = dataSet[['RespondentID','Courses_Completed']]\n",
    "print(ds_course_complete['Courses_Completed'].describe())\n",
    "sns.boxplot(data = ds_course_complete['Courses_Completed'], orient = 'v').set_title('Course complete box plot')"
   ]
  },
  {
   "cell_type": "code",
   "execution_count": 9,
   "metadata": {},
   "outputs": [
    {
     "name": "stdout",
     "output_type": "stream",
     "text": [
      "\n",
      " predictive statistics for courses completed by 2016  ---------------\n"
     ]
    }
   ],
   "source": [
    "#course predictor\n",
    "print('\\n predictive statistics for courses completed by 2016  ---------------')\n",
    "attribute_predict =['400 - Py','401 - R','410 - SAS','411 - SAS','413 - R','420 - Py', '422 - R','450 - R','451 - R','452 - Py','453 - Py','454 - R', '455 - R','456 - R', '457 - R','OtherPy','OtherR','OtherSAS','Other']"
   ]
  },
  {
   "cell_type": "code",
   "execution_count": 10,
   "metadata": {
    "lines_to_next_cell": 2
   },
   "outputs": [
    {
     "data": {
      "text/plain": [
       "<matplotlib.axes._subplots.AxesSubplot at 0x1db66f37358>"
      ]
     },
     "execution_count": 10,
     "metadata": {},
     "output_type": "execute_result"
    },
    {
     "data": {
      "image/png": "[encoded data removed]",
      "text/plain": [
       "<Figure size 432x288 with 1 Axes>"
      ]
     },
     "metadata": {
      "needs_background": "light"
     },
     "output_type": "display_data"
    }
   ],
   "source": [
    "ds_course_predict = dataSet[attribute_predict]\n",
    "total_course_predict = pd.DataFrame(ds_course_predict.count())\n",
    "total_course_predict.plot(kind='bar')"
   ]
  }
 ],
 "metadata": {
  "jupytext": {
   "cell_metadata_filter": "-all",
   "encoding": "# -*- coding: utf-8 -*-",
   "notebook_metadata_filter": "-all",
   "text_representation": {
    "extension": ".py",
    "format_name": "light"
   }
  },
  "kernelspec": {
   "display_name": "Python 3",
   "language": "python",
   "name": "python3"
  },
  "language_info": {
   "codemirror_mode": {
    "name": "ipython",
    "version": 3
   },
   "file_extension": ".py",
   "mimetype": "text/x-python",
   "name": "python",
   "nbconvert_exporter": "python",
   "pygments_lexer": "ipython3",
   "version": "3.7.3"
  }
 },
 "nbformat": 4,
 "nbformat_minor": 2
}
